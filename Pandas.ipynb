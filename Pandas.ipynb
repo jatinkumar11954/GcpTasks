{
  "nbformat": 4,
  "nbformat_minor": 0,
  "metadata": {
    "colab": {
      "name": "Pandas.ipynb",
      "provenance": [],
      "toc_visible": true,
      "authorship_tag": "ABX9TyMs8NvM7uSLhp/h306MgkJw",
      "include_colab_link": true
    },
    "kernelspec": {
      "name": "python3",
      "display_name": "Python 3"
    },
    "language_info": {
      "name": "python"
    }
  },
  "cells": [
    {
      "cell_type": "markdown",
      "metadata": {
        "id": "view-in-github",
        "colab_type": "text"
      },
      "source": [
        "<a href=\"https://colab.research.google.com/github/jatinkumar11954/GcpTasks/blob/master/Pandas.ipynb\" target=\"_parent\"><img src=\"https://colab.research.google.com/assets/colab-badge.svg\" alt=\"Open In Colab\"/></a>"
      ]
    },
    {
      "cell_type": "markdown",
      "source": [
        "1. List Different types of data structures in pandas.\n",
        "\n",
        "Series — 1D  \n",
        "    DataFrame — 2D  \n",
        "    Panel — 3D"
      ],
      "metadata": {
        "id": "dyHRhsZneT_j"
      }
    },
    {
      "cell_type": "markdown",
      "source": [
        "2. What is pandas dataframe? Create a empty dataframe.\n",
        "\n",
        "    A DataFrame is a two-dimensional data structure composed of rows and columns\n"
      ],
      "metadata": {
        "id": "u98RI30Nek3V"
      }
    },
    {
      "cell_type": "code",
      "source": [
        "\n",
        "# import pandas library as pd\n",
        "import pandas as pd\n",
        "  \n",
        "# create an Empty DataFrame object\n",
        "df = pd.DataFrame()\n",
        "  \n",
        "print(df)"
      ],
      "metadata": {
        "colab": {
          "base_uri": "https://localhost:8080/"
        },
        "id": "Ma0cpGDsfbOs",
        "outputId": "598eff5e-4efb-429a-ada1-2b652d0f99f3"
      },
      "execution_count": 1,
      "outputs": [
        {
          "output_type": "stream",
          "name": "stdout",
          "text": [
            "Empty DataFrame\n",
            "Columns: []\n",
            "Index: []\n"
          ]
        }
      ]
    },
    {
      "cell_type": "markdown",
      "source": [
        "3. Explain number of ways to create pandas dataframe\n",
        "\n",
        "    1. Csv or excel file: usings functions as such read_csv, read_excel\n",
        "\n",
        "    2. Numpy arrays:\n",
        "            import pandas as pd\n",
        "            import numpy as np\n",
        "            A = np.random.randint(10, size=(4,3))\n",
        "            print(A)\n",
        "            array([[9, 2, 0],        \n",
        "                  [4, 3, 0],        \n",
        "                  [2, 3, 1],        \n",
        "                  [7, 1, 3]])\n",
        "            df = pd.DataFrame(A)\n",
        "            print(df)\n",
        "\n",
        "    3. Dictionary:\n",
        "\n",
        "            dict_a = {'col_a':[1,2,3,4],'col_b': [2,5,6,7],\n",
        "                          'col_c'['a','b',}\n",
        "            df = pd.DataFrame(dict_a)\n",
        "            df\n",
        "\n",
        "    4. List:\n",
        "            lst_a = [['John', 23, 182, 'A'], ['Jane', 25, 179, 'A'], \n",
        "                    ['Mary',    21, 177, 'B']]\n",
        "            df= pd.DataFrame(lst_a)\n",
        "            df\n"
      ],
      "metadata": {
        "id": "a80E-7hFfuga"
      }
    },
    {
      "cell_type": "markdown",
      "source": [
        ""
      ],
      "metadata": {
        "id": "DoD-DKlIiP00"
      }
    }
  ]
}